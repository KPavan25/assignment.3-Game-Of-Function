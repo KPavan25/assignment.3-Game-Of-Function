{
 "cells": [
  {
   "cell_type": "code",
   "execution_count": 18,
   "id": "a60b6f32",
   "metadata": {},
   "outputs": [
    {
     "name": "stdout",
     "output_type": "stream",
     "text": [
      "enter the list of elements 8 2 3 0 7\n",
      "the sum of list of elements is : 20\n"
     ]
    }
   ],
   "source": [
    "'''Write a Python function to sum all the numbers in a list.\n",
    "\n",
    "Sample List : (8, 2, 3, 0, 7)\n",
    "\n",
    "Expected Output : 20'''\n",
    "\n",
    "input_string=input( \"enter the list of elements \")\n",
    "list_range = input_string.split()\n",
    "result = 0\n",
    "for i in list_range:\n",
    "    result += int(i)\n",
    "print(\"the sum of list of elements is :\",result)"
   ]
  },
  {
   "cell_type": "code",
   "execution_count": null,
   "id": "d76e5d02",
   "metadata": {},
   "outputs": [],
   "source": []
  },
  {
   "cell_type": "code",
   "execution_count": null,
   "id": "261da638",
   "metadata": {},
   "outputs": [],
   "source": []
  }
 ],
 "metadata": {
  "kernelspec": {
   "display_name": "Python 3 (ipykernel)",
   "language": "python",
   "name": "python3"
  },
  "language_info": {
   "codemirror_mode": {
    "name": "ipython",
    "version": 3
   },
   "file_extension": ".py",
   "mimetype": "text/x-python",
   "name": "python",
   "nbconvert_exporter": "python",
   "pygments_lexer": "ipython3",
   "version": "3.9.12"
  }
 },
 "nbformat": 4,
 "nbformat_minor": 5
}
